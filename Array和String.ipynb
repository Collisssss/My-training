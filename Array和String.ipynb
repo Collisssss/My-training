{
 "cells": [
  {
   "cell_type": "markdown",
   "id": "4a8726e7",
   "metadata": {},
   "source": [
    "# 最新的找工作"
   ]
  },
  {
   "cell_type": "markdown",
   "id": "6c396cc4",
   "metadata": {},
   "source": [
    "一步一步来，分课题刷题，不要急躁"
   ]
  },
  {
   "cell_type": "code",
   "execution_count": null,
   "id": "33b0f12e",
   "metadata": {},
   "outputs": [],
   "source": [
    "一组数如[2,7,11,15]和target。= 9，输出相加为九的数的位置"
   ]
  },
  {
   "cell_type": "code",
   "execution_count": 31,
   "id": "d09921af",
   "metadata": {},
   "outputs": [],
   "source": [
    "class solution:\n",
    "    def twoSum(self, nums, target):\n",
    "        h = {}\n",
    "        for idx,val in enumerate(nums):\n",
    "            n = target - val\n",
    "            if n not in h:\n",
    "                h[val] = idx\n",
    "            else:\n",
    "                return [h[n],idx]\n",
    "                \n",
    "    def twoSum2point(self, nums, target):\n",
    "        nums_sort =[]\n",
    " \n",
    "        for idx, val in enumerate(nums):\n",
    "            nums_sort.append((idx,val))\n",
    "        nums_sort.sort(key = lambda elt:elt[1])\n",
    "        left =0\n",
    "        right = len(nums)-1\n",
    "        while left<right:\n",
    "            sum_two_number = nums_sort[left][1]+nums_sort[right][1]\n",
    "            if sum_two_number<target:\n",
    "                left +=1\n",
    "            elif sum_two_number>target:\n",
    "                right -=1\n",
    "            else:\n",
    "                \n",
    "                return [nums_sort[left][0],nums_sort[right][0]]\n",
    "            \n",
    "    def twoSum2point2(self, nums, target):\n",
    "        nums_sort =[]\n",
    "        solution1 = []\n",
    " \n",
    "        for idx, val in enumerate(nums):\n",
    "            nums_sort.append((idx,val))\n",
    "        nums_sort.sort(key = lambda elt:elt[1])\n",
    "        left =0\n",
    "        right = len(nums)-1\n",
    "        while left<right:\n",
    "            sum_two_number = nums_sort[left][1]+nums_sort[right][1]\n",
    "            if sum_two_number<target:\n",
    "                left +=1\n",
    "            elif sum_two_number>target:\n",
    "                right -=1\n",
    "            else:\n",
    "                #当solution1加入了新的对之后，需要移动一下left 来继续进行\n",
    "                #函数return之后会直接结束\n",
    "                solution1.append([nums_sort[left][0],nums_sort[right][0]])\n",
    "                left +=1\n",
    "            \n",
    "        return solution1\n",
    "    \n",
    "        "
   ]
  },
  {
   "cell_type": "code",
   "execution_count": 32,
   "id": "c37c04a2",
   "metadata": {},
   "outputs": [
    {
     "data": {
      "text/plain": [
       "[0, 1]"
      ]
     },
     "execution_count": 32,
     "metadata": {},
     "output_type": "execute_result"
    }
   ],
   "source": [
    "s =solution()\n",
    "nums = [2,7,11,15]\n",
    "s.twoSum(nums,9)"
   ]
  },
  {
   "cell_type": "code",
   "execution_count": 34,
   "id": "b18bd997",
   "metadata": {},
   "outputs": [
    {
     "data": {
      "text/plain": [
       "[[2, 3], [0, 1]]"
      ]
     },
     "execution_count": 34,
     "metadata": {},
     "output_type": "execute_result"
    }
   ],
   "source": [
    "nums = [2,7,1,8,11,3]\n",
    "s.twoSum2point2(nums,9)\n"
   ]
  },
  {
   "cell_type": "code",
   "execution_count": 39,
   "id": "ceb56089",
   "metadata": {},
   "outputs": [],
   "source": [
    "# 找3个数相加为0 [-1,0,1,2,-1,-4]\n",
    "class solution: \n",
    "    def threesum(self, nums):\n",
    "        res = []\n",
    "        nums.sort()\n",
    "        for i in range(len(nums)):\n",
    "            if nums[i]>0:\n",
    "                break\n",
    "            if i ==0 or nums[i-1] !=nums[i]:\n",
    "                self.twosum2(nums,i,res)\n",
    "        return res\n",
    "                \n",
    "    def twosum2(self,nums,i, res):\n",
    "        low, high = i+1, len(nums)-1\n",
    "        while low< high:\n",
    "            summ = nums[i]+nums[low]+nums[high]\n",
    "            if summ<0:\n",
    "                low +=1\n",
    "            elif summ>0:\n",
    "                high -=1\n",
    "            else:\n",
    "                res.append([nums[i],nums[low],nums[high]])\n",
    "                low +=1\n",
    "                high -=1\n",
    "                while low<high & nums[low] == nums[low-1]:\n",
    "                    low +=1\n",
    "        \n",
    "            \n",
    "                \n",
    "            \n",
    "        \n",
    "        "
   ]
  },
  {
   "cell_type": "code",
   "execution_count": 40,
   "id": "951e79b4",
   "metadata": {},
   "outputs": [
    {
     "data": {
      "text/plain": [
       "[[-1, -1, 2], [-1, 0, 1]]"
      ]
     },
     "execution_count": 40,
     "metadata": {},
     "output_type": "execute_result"
    }
   ],
   "source": [
    "s = solution()\n",
    "\n",
    "nums = [-1,0,1,2,-1,-4]\n",
    "s.threesum(nums)"
   ]
  },
  {
   "cell_type": "code",
   "execution_count": 43,
   "id": "66198f81",
   "metadata": {},
   "outputs": [
    {
     "name": "stdout",
     "output_type": "stream",
     "text": [
      "5\n"
     ]
    }
   ],
   "source": [
    "#i elegment 是股票价格在i日的，一天最多一个交易，找最大收入\n",
    "#[7,1,5,3,6,4] #5\n",
    "nums = [7,1,5,3,6,4]\n",
    "print(transaction(nums))\n",
    "\n",
    "def transaction(nums):\n",
    "    max_profit,min_price = float('-Inf'),float('Inf')\n",
    "    for num in nums:\n",
    "        min_price = min(num, min_price)\n",
    "        profit =num - min_price\n",
    "        max_profit = max(max_profit, profit)\n",
    "    return max_profit\n",
    "\n",
    "\n",
    "\n",
    "\n"
   ]
  },
  {
   "cell_type": "code",
   "execution_count": null,
   "id": "56ae51e0",
   "metadata": {},
   "outputs": [],
   "source": [
    "#一组数找三个相乘最大\n",
    "#nums= [-8,-1,1,2,3,4]\n",
    "\n",
    "\n",
    "def threeproduct(nums):\n",
    "    max1, max2, max3,min1,min2 = float('-Inf'),float('-Inf'),float('-Inf'),float('Inf'),float('Inf')\n",
    "    for num in nums:\n",
    "        if num> max3:\n",
    "            max1,max2,max3 = max2,max3,num\n",
    "        elif num>max2:\n",
    "            max1,max2 = max2,num\n",
    "        elif num> max1:\n",
    "            max1 = num\n",
    "        if num<min2:\n",
    "            min1,min2 = min2, num\n",
    "        elif num<min1:\n",
    "            min1 = num1\n",
    "    return max(max1*max2*max3,min1*min2*max3)\n",
    "\n",
    "\n",
    "\n",
    "\n",
    "\n",
    "\n",
    "\n",
    "\n"
   ]
  },
  {
   "cell_type": "markdown",
   "id": "2f716516",
   "metadata": {},
   "source": [
    "Implement next permutation, which rearranges numbers into the lexicographically next greater permutation of numbers. \n",
    "If such an arrangement is not possible, it must rearrange it as the lowest possible order \n",
    "(i.e., sorted in ascending order). Do it in place and use only constant extra memory.\n",
    "\n",
    "nums = [1,2,3]\n",
    "output =[1,3,2]"
   ]
  },
  {
   "cell_type": "code",
   "execution_count": null,
   "id": "9a4f227f",
   "metadata": {},
   "outputs": [],
   "source": [
    "class solution:\n",
    "    def nextpermutation(self,nums):\n",
    "        i = j = len(nums)-1\n",
    "        while i>0 and nums[i-1]>= nums[i]:\n",
    "            i -= 1\n",
    "        if i==0:\n",
    "            nums.reverse()\n",
    "            return\n",
    "        k = i-1\n",
    "        while nums[j]<=nums[k]:\n",
    "            j -=1\n",
    "        nums[k], nums[j] = nums[j],nums[k]\n",
    "        l,r = k+1,len(nums) -1\n",
    "        while l<r:\n",
    "            nums[l],nums[r] = nums[r],nums[l]\n",
    "            l +=1\n",
    "            r -=1\n",
    "        \n",
    "        \n",
    "    \n",
    "        "
   ]
  },
  {
   "cell_type": "markdown",
   "id": "fa0f5417",
   "metadata": {},
   "source": [
    "# String\n",
    "\n",
    "# 第一题回文数"
   ]
  },
  {
   "cell_type": "code",
   "execution_count": 1,
   "id": "364a6e9e",
   "metadata": {},
   "outputs": [],
   "source": [
    "def isPan(string):\n",
    "    s = ''.join([c for c in string if c.isalpha() or c.numeric()]).lower()\n",
    "    return s ==s[::-1]"
   ]
  },
  {
   "cell_type": "markdown",
   "id": "2f92bfe1",
   "metadata": {},
   "source": [
    "# 第二题\n",
    "\n",
    "Given an input string s, reverse the order of the words. A word is defined as a sequence of non-space characters. The\n",
    "words in s will be separated by at least one space. Return a string of the words in reverse order concatenated by a single\n",
    "space. Note that s may contain leading or trailing spaces or multiple spaces between two words. The returned string\n",
    "should only have a single space separating the words. Do not include any extra spaces."
   ]
  },
  {
   "cell_type": "code",
   "execution_count": 3,
   "id": "715ce56e",
   "metadata": {},
   "outputs": [
    {
     "data": {
      "text/plain": [
       "'blue is sky the'"
      ]
     },
     "execution_count": 3,
     "metadata": {},
     "output_type": "execute_result"
    }
   ],
   "source": [
    "#s = 'the sky is blue'\n",
    "def reverseword(string):\n",
    "    return ' '.join(string.split()[::-1])\n",
    "\n",
    "string = 'the sky is blue'\n",
    "reverseword(string)"
   ]
  },
  {
   "cell_type": "code",
   "execution_count": null,
   "id": "d3a57b31",
   "metadata": {},
   "outputs": [],
   "source": []
  },
  {
   "cell_type": "code",
   "execution_count": null,
   "id": "1da7475f",
   "metadata": {},
   "outputs": [],
   "source": []
  },
  {
   "cell_type": "code",
   "execution_count": null,
   "id": "83200672",
   "metadata": {},
   "outputs": [],
   "source": [
    "def numbertoalpha(digits):\n",
    "    \n",
    "    letter = []\n",
    "    for x in digits:\n",
    "        if x == \"2\":\n",
    "            letter.append(['a','b','c'])\n",
    "        elif x == \"3\":\n",
    "            letter.append(['d','e','f'])\n",
    "        elif x == \"4\":\n",
    "            letter.append(['g','h','i'])\n",
    "        elif x == \"5\":\n",
    "            letter.append(['j','k','l'])\n",
    "        elif x == \"6\":\n",
    "            letter.append(['m','n','o'])\n",
    "        elif x == \"7\":\n",
    "            letter.append(['p','q','r','s'])\n",
    "        elif x == \"8\":\n",
    "            letter.append(['t','u','v'])\n",
    "        else:\n",
    "            letter.append(['w','x','y','z'])\n",
    "    for i in range(1,len(letter)):\n",
    "        temp = letter[0][:]\n",
    "        for x in temp:\n",
    "            for y in letter[i]:\n",
    "                letter[0].append(str(x+y))#两个字符合并一起\n",
    "            del letter[0][0]\n",
    "    if digits ==\"\":\n",
    "        return []\n",
    "    else:\n",
    "        return letter[0]"
   ]
  },
  {
   "cell_type": "code",
   "execution_count": null,
   "id": "378e1dc9",
   "metadata": {},
   "outputs": [],
   "source": []
  },
  {
   "cell_type": "code",
   "execution_count": null,
   "id": "dcff2c40",
   "metadata": {},
   "outputs": [],
   "source": []
  }
 ],
 "metadata": {
  "kernelspec": {
   "display_name": "Python 3 (ipykernel)",
   "language": "python",
   "name": "python3"
  },
  "language_info": {
   "codemirror_mode": {
    "name": "ipython",
    "version": 3
   },
   "file_extension": ".py",
   "mimetype": "text/x-python",
   "name": "python",
   "nbconvert_exporter": "python",
   "pygments_lexer": "ipython3",
   "version": "3.11.4"
  }
 },
 "nbformat": 4,
 "nbformat_minor": 5
}
