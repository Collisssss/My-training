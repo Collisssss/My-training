{
 "cells": [
  {
   "cell_type": "markdown",
   "metadata": {},
   "source": [
    "如何实现一个高效的数据结构来跟踪大量订单的中值"
   ]
  },
  {
   "cell_type": "code",
   "execution_count": null,
   "metadata": {},
   "outputs": [],
   "source": [
    "import heapq\n",
    "\n",
    "class MedianFinder:\n",
    "\n",
    "    def __init__(self):\n",
    "        # 大顶堆，用于存储较小的一半数\n",
    "        self.min_heap = []\n",
    "        # 小顶堆，用于存储较大的一半数\n",
    "        self.max_heap = []\n",
    "\n",
    "    def addOrder(self, num: int) -> None:\n",
    "        # 将数字放入合适的堆中，并确保两个堆的大小均衡\n",
    "        if not self.min_heap or num <= -self.min_heap[0]:\n",
    "            heapq.heappush(self.min_heap, -num)\n",
    "        else:\n",
    "            heapq.heappush(self.max_heap, num)\n",
    "\n",
    "        # 平衡堆的大小\n",
    "        while len(self.min_heap) > len(self.max_heap) + 1:\n",
    "            heapq.heappush(self.max_heap, -heapq.heappop(self.min_heap))\n",
    "        while len(self.max_heap) > len(self.min_heap):\n",
    "            heapq.heappush(self.min_heap, -heapq.heappop(self.max_heap))\n",
    "\n",
    "    def findMedian(self) -> float:\n",
    "        # 根据当前的订单数量，返回中值\n",
    "        if len(self.min_heap) == len(self.max_heap):\n",
    "            return (-self.min_heap[0] + self.max_heap[0]) / 2.0\n",
    "        else:\n",
    "            return -self.min_heap[0]\n"
   ]
  },
  {
   "cell_type": "markdown",
   "metadata": {},
   "source": [
    "实现快速排序法"
   ]
  },
  {
   "cell_type": "code",
   "execution_count": null,
   "metadata": {},
   "outputs": [],
   "source": [
    "def quicksort(arr):\n",
    "    if len(arr) <= 1:\n",
    "        return arr\n",
    "\n",
    "    pivot = arr[len(arr) // 2]\n",
    "    left = [x for x in arr if x < pivot]\n",
    "    middle = [x for x in arr if x == pivot]\n",
    "    right = [x for x in arr if x > pivot]\n",
    "\n",
    "    return quicksort(left) + middle + quicksort(right)\n",
    "\n",
    "# 测试\n",
    "arr = [3, 6, 8, 10, 1, 2, 1]\n",
    "print(quicksort(arr))\n"
   ]
  },
  {
   "cell_type": "markdown",
   "metadata": {},
   "source": [
    "在一个旋转数组中查找给定的元素"
   ]
  },
  {
   "cell_type": "code",
   "execution_count": null,
   "metadata": {},
   "outputs": [],
   "source": [
    "def search(nums, target):\n",
    "    if not nums:\n",
    "        return -1\n",
    "\n",
    "    # 二分查找，找到旋转的索引，即数组中的最小值\n",
    "    left, right = 0, len(nums) - 1\n",
    "    while left < right:\n",
    "        mid = (left + right) // 2\n",
    "        if nums[mid] > nums[right]:\n",
    "            left = mid + 1\n",
    "        else:\n",
    "            right = mid\n",
    "\n",
    "    # 旋转的索引\n",
    "    pivot = left\n",
    "    left, right = 0, len(nums) - 1\n",
    "    \n",
    "    # 再次二分查找，找到目标值\n",
    "    while left <= right:\n",
    "        mid = (left + right) // 2\n",
    "        real_mid = (mid + pivot) % len(nums)  # 考虑到旋转\n",
    "        if nums[real_mid] == target:\n",
    "            return real_mid\n",
    "        if nums[real_mid] < target:\n",
    "            left = mid + 1\n",
    "        else:\n",
    "            right = mid - 1\n",
    "    return -1\n",
    "\n",
    "# 测试\n",
    "nums = [4, 5, 6, 7, 0, 1, 2]\n",
    "target = 0\n",
    "print(search(nums, target))  # 输出: 4 (因为 nums[4] = 0)\n"
   ]
  },
  {
   "cell_type": "code",
   "execution_count": null,
   "metadata": {},
   "outputs": [],
   "source": []
  },
  {
   "cell_type": "code",
   "execution_count": null,
   "metadata": {},
   "outputs": [],
   "source": []
  },
  {
   "cell_type": "code",
   "execution_count": null,
   "metadata": {},
   "outputs": [],
   "source": []
  },
  {
   "cell_type": "code",
   "execution_count": null,
   "metadata": {},
   "outputs": [],
   "source": []
  },
  {
   "cell_type": "code",
   "execution_count": null,
   "metadata": {},
   "outputs": [],
   "source": []
  },
  {
   "cell_type": "code",
   "execution_count": null,
   "metadata": {},
   "outputs": [],
   "source": []
  },
  {
   "cell_type": "code",
   "execution_count": null,
   "metadata": {},
   "outputs": [],
   "source": []
  },
  {
   "cell_type": "code",
   "execution_count": null,
   "metadata": {},
   "outputs": [],
   "source": []
  },
  {
   "cell_type": "code",
   "execution_count": null,
   "metadata": {},
   "outputs": [],
   "source": []
  },
  {
   "cell_type": "code",
   "execution_count": null,
   "metadata": {},
   "outputs": [],
   "source": []
  },
  {
   "cell_type": "code",
   "execution_count": null,
   "metadata": {},
   "outputs": [],
   "source": []
  }
 ],
 "metadata": {
  "kernelspec": {
   "display_name": "Python 3 (ipykernel)",
   "language": "python",
   "name": "python3"
  },
  "language_info": {
   "codemirror_mode": {
    "name": "ipython",
    "version": 3
   },
   "file_extension": ".py",
   "mimetype": "text/x-python",
   "name": "python",
   "nbconvert_exporter": "python",
   "pygments_lexer": "ipython3",
   "version": "3.11.4"
  }
 },
 "nbformat": 4,
 "nbformat_minor": 4
}
