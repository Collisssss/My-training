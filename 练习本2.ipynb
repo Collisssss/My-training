{
 "cells": [
  {
   "cell_type": "markdown",
   "metadata": {},
   "source": [
    "双指针[2,7,11,15],target = 9"
   ]
  },
  {
   "cell_type": "code",
   "execution_count": 2,
   "metadata": {},
   "outputs": [
    {
     "data": {
      "text/plain": [
       "9"
      ]
     },
     "execution_count": 2,
     "metadata": {},
     "output_type": "execute_result"
    }
   ],
   "source": [
    "a =(1,9)\n",
    "a[1]"
   ]
  },
  {
   "cell_type": "code",
   "execution_count": 18,
   "metadata": {},
   "outputs": [],
   "source": [
    "def twoSum(nums, target):\n",
    "    #一定是双指针，双指针肯定是对一列进行，把一列的东西拆开用enumerate，放进一个列，\n",
    "    nums_sort = []\n",
    "    for idx, val in enumerate(nums):\n",
    "        nums_sort.append((idx,val))\n",
    "    nums_sort.sort(key = lambda elt:elt[1])\n",
    "    left, right = 0,len(nums)-1\n",
    "    #for i in range(len(nums)):\n",
    "    while left<right:\n",
    "        sm = nums_sort[left][1]+nums_sort[right][1]\n",
    "        if sm<target:\n",
    "            left +=1\n",
    "        elif sm>target:\n",
    "            right -=1\n",
    "        else:\n",
    "            return [nums_sort[left][0],nums_sort[right][0]]\n",
    "            \n",
    "        \n",
    "    #点评， 没sort left = left+1写错\n",
    "    \n",
    "    "
   ]
  },
  {
   "cell_type": "code",
   "execution_count": 19,
   "metadata": {},
   "outputs": [
    {
     "data": {
      "text/plain": [
       "[0, 1]"
      ]
     },
     "execution_count": 19,
     "metadata": {},
     "output_type": "execute_result"
    }
   ],
   "source": [
    "a=[2,7,11,15]\n",
    "target = 9\n",
    "twoSum(a,target)"
   ]
  },
  {
   "cell_type": "code",
   "execution_count": 24,
   "metadata": {},
   "outputs": [],
   "source": [
    "#解法2哈希表\n",
    "def twoSum(nums, target):\n",
    "    h = {}\n",
    "    for idx, val in enumerate(nums):\n",
    "        n = target - val\n",
    "        if n not in h:\n",
    "            h[n] = idx\n",
    "        else:\n",
    "            return [h[n],idx]\n",
    "#没有理解结果"
   ]
  },
  {
   "cell_type": "code",
   "execution_count": 25,
   "metadata": {},
   "outputs": [],
   "source": [
    "a=[2,7,11,15]\n",
    "target = 9\n",
    "twoSum(a,target)"
   ]
  },
  {
   "cell_type": "markdown",
   "metadata": {},
   "source": [
    "第二题，给一个n使得a+b+c=0. [-1,0,1,2,-1,-4]"
   ]
  },
  {
   "cell_type": "code",
   "execution_count": 29,
   "metadata": {},
   "outputs": [],
   "source": [
    "class solution:\n",
    "    def threeSum(self, nums):\n",
    "        output = []\n",
    "        nums.sort()\n",
    "        for i in range(len(nums)):\n",
    "            if i==0 or nums[i-1] != nums[i]:\n",
    "                self.twoSumII(nums,i,output)\n",
    "            if nums[i]>0:\n",
    "                break\n",
    "        return output\n",
    "    def twoSumII(self,nums,i,output):\n",
    "        low, high = i+1, len(nums)-1\n",
    "    #   sm = nums[i]+nums[low]+nums[high]\n",
    "        while low<high:\n",
    "            sm = nums[i]+nums[low]+nums[high]#这句话写错了，应该放这里\n",
    "            if sm<0:\n",
    "                low+=1\n",
    "                \n",
    "            elif sm>0:\n",
    "                high-=1\n",
    "            else:\n",
    "                output.append([nums[i],nums[low],nums[high]])\n",
    "                low+=1\n",
    "                high-=1\n",
    "                while low<high and nums[low] ==nums[low-1]:\n",
    "                    low +=1\n",
    "                    \n",
    "                \n",
    "        \n",
    "        \n",
    "    "
   ]
  },
  {
   "cell_type": "code",
   "execution_count": 30,
   "metadata": {},
   "outputs": [
    {
     "data": {
      "text/plain": [
       "[[-1, -1, 2], [-1, 0, 1]]"
      ]
     },
     "execution_count": 30,
     "metadata": {},
     "output_type": "execute_result"
    }
   ],
   "source": [
    "solution1 = solution()\n",
    "nums = [-1,0,1,2,-1,-4]\n",
    "solution1.threeSum(nums)"
   ]
  },
  {
   "cell_type": "markdown",
   "metadata": {},
   "source": [
    "Question 3"
   ]
  },
  {
   "cell_type": "code",
   "execution_count": null,
   "metadata": {},
   "outputs": [],
   "source": [
    "def maxprofit(nums):\n",
    "    max_profit = 0\n",
    "    min_price = float('inf')\n",
    "    for price in nums:\n",
    "        min_price = min(min_price, price)\n",
    "        profit = price - min_price\n",
    "        max_profit = max(profit,max_profit)\n",
    "    return max_profit"
   ]
  },
  {
   "cell_type": "markdown",
   "metadata": {},
   "source": [
    "question 4"
   ]
  },
  {
   "cell_type": "code",
   "execution_count": 31,
   "metadata": {},
   "outputs": [],
   "source": [
    "def threeproductmaximum(nums):\n",
    "    min1,min2,max1,max2,max3 = float('inf'),float('inf'),-float('inf'),-float('inf'),-float('inf')\n",
    "    for num in nums:\n",
    "        if num>= max1:\n",
    "            max1,max2,max3 = num,max1,max2\n",
    "        elif num>=max2 and num<max1:\n",
    "            max1,max2,max3 = max1,num,max2\n",
    "        elif num>=max3 and num<max2:\n",
    "            max1,max2,max3 = max1,max2,num\n",
    "        if num<=min1:\n",
    "            min1,min2 = num,min1\n",
    "        elif num<=min2:\n",
    "            min1,min2 = min1,num\n",
    "    return max(min1*min2*max1,max1*max2*max3)\n",
    "        \n",
    "        \n",
    "    #点评，这个写的不好，\n",
    "    #第一部分赋值是对的，但是后面 elif本身就包括了反条件\n",
    "    \n",
    "    \n",
    "    \n",
    "    "
   ]
  },
  {
   "cell_type": "code",
   "execution_count": 34,
   "metadata": {},
   "outputs": [
    {
     "data": {
      "text/plain": [
       "24"
      ]
     },
     "execution_count": 34,
     "metadata": {},
     "output_type": "execute_result"
    }
   ],
   "source": [
    "nums = [1,2,3,4]\n",
    "threeproductmaximum(nums)"
   ]
  },
  {
   "cell_type": "code",
   "execution_count": 35,
   "metadata": {},
   "outputs": [
    {
     "data": {
      "text/plain": [
       "4000"
      ]
     },
     "execution_count": 35,
     "metadata": {},
     "output_type": "execute_result"
    }
   ],
   "source": [
    "nums = [-10,-100,1,2,3,4]\n",
    "threeproductmaximum(nums)"
   ]
  },
  {
   "cell_type": "markdown",
   "metadata": {},
   "source": [
    "question5"
   ]
  },
  {
   "cell_type": "code",
   "execution_count": null,
   "metadata": {},
   "outputs": [],
   "source": []
  },
  {
   "cell_type": "code",
   "execution_count": null,
   "metadata": {},
   "outputs": [],
   "source": []
  },
  {
   "cell_type": "code",
   "execution_count": null,
   "metadata": {},
   "outputs": [],
   "source": []
  }
 ],
 "metadata": {
  "kernelspec": {
   "display_name": "Python 3 (ipykernel)",
   "language": "python",
   "name": "python3"
  },
  "language_info": {
   "codemirror_mode": {
    "name": "ipython",
    "version": 3
   },
   "file_extension": ".py",
   "mimetype": "text/x-python",
   "name": "python",
   "nbconvert_exporter": "python",
   "pygments_lexer": "ipython3",
   "version": "3.11.4"
  }
 },
 "nbformat": 4,
 "nbformat_minor": 4
}
