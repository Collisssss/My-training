{
 "cells": [
  {
   "cell_type": "markdown",
   "metadata": {},
   "source": [
    "Question 1\n",
    "    "
   ]
  },
  {
   "cell_type": "code",
   "execution_count": 1,
   "metadata": {},
   "outputs": [],
   "source": [
    "class Solution:\n",
    "    def minDepthTree(self, root):\n",
    "        # 基本情况：如果当前节点为空，则返回0\n",
    "        if not root:\n",
    "            return 0\n",
    "        left = self.minDepthTree(root.left)\n",
    "        right = self.minDepthTree(root.right)\n",
    "        \n",
    "        # 如果左右子树有一个为空，返回非空子树的最小深度+1\n",
    "        if not root.left or not root.right:\n",
    "            return max(left, right) + 1\n",
    "        \n",
    "        # 如果左右子树都不为空，返回较小的深度+1\n",
    "        return min(left, right) + 1\n",
    "\n",
    "    "
   ]
  },
  {
   "cell_type": "markdown",
   "metadata": {},
   "source": [
    "运行方法"
   ]
  },
  {
   "cell_type": "code",
   "execution_count": 2,
   "metadata": {},
   "outputs": [
    {
     "name": "stdout",
     "output_type": "stream",
     "text": [
      "2\n"
     ]
    }
   ],
   "source": [
    "class TreeNode:\n",
    "    def __init__(self, val=0, left=None, right=None):\n",
    "        self.val = val\n",
    "        self.left = left\n",
    "        self.right = right\n",
    "\n",
    "# 构造一棵树作为示例\n",
    "#       1\n",
    "#      / \\\n",
    "#     2   3\n",
    "#        /\n",
    "#       4\n",
    "root = TreeNode(1)\n",
    "root.left = TreeNode(2)\n",
    "root.right = TreeNode(3)\n",
    "root.right.left = TreeNode(4)\n",
    "\n",
    "# 创建Solution实例并调用minDepthTree方法\n",
    "sol = Solution()\n",
    "print(sol.minDepthTree(root))  # 输出树的最小深度\n"
   ]
  },
  {
   "cell_type": "code",
   "execution_count": null,
   "metadata": {},
   "outputs": [],
   "source": []
  },
  {
   "cell_type": "code",
   "execution_count": null,
   "metadata": {},
   "outputs": [],
   "source": [
    "Question 2"
   ]
  },
  {
   "cell_type": "code",
   "execution_count": null,
   "metadata": {},
   "outputs": [],
   "source": [
    "class solution:\n",
    "    def minDepth(self,root):\n",
    "        if not root:\n",
    "            return 0\n",
    "        leftDepth = self.minDepth(root.left)\n",
    "        rightDepth = self.minDepth(root.right)\n",
    "        \n",
    "        if not root.left or not root.right:\n",
    "            return leftDepth+rightDepth+1\n",
    "        return min(leftDepth,rightDepth)+1"
   ]
  },
  {
   "cell_type": "code",
   "execution_count": null,
   "metadata": {},
   "outputs": [],
   "source": []
  },
  {
   "cell_type": "code",
   "execution_count": 1,
   "metadata": {},
   "outputs": [],
   "source": [
    "class Solution:\n",
    "    def heights(self, root):\n",
    "        if not root:\n",
    "            return 0\n",
    "        return 1+ max(self.heights(root.left),self.heights(root.right))\n",
    "    def isbalance(self, root):\n",
    "        if not root:\n",
    "            return true\n",
    "        return self.isbalance(root.left) / self.isbalance(root.right) / abs(self.heights(root.left)-self.heights(root.right))<2"
   ]
  },
  {
   "cell_type": "code",
   "execution_count": null,
   "metadata": {},
   "outputs": [],
   "source": [
    "class solution():\n",
    "    def hegihts(self, root):\n",
    "        if not root:\n",
    "            return 0\n",
    "        return 1+ max(self.heights(root.left),self.heights(root.right))\n",
    "    def isbalance(self,root):\n",
    "        if not root:\n",
    "            return True\n",
    "        return self.isbalance(root.left) and self.isbalance(root.right) and abs(self.heights(root.left)-self.heights(root.right))"
   ]
  },
  {
   "cell_type": "code",
   "execution_count": null,
   "metadata": {},
   "outputs": [],
   "source": []
  },
  {
   "cell_type": "code",
   "execution_count": null,
   "metadata": {},
   "outputs": [],
   "source": [
    "#recite\n",
    "class treeNode:\n",
    "    def __init__(self, val =0, left = None, Right = None)\n",
    "class solution:\n",
    "    \n",
    "    def heights(self, root):\n",
    "        if not root:\n",
    "            return 0\n",
    "        return max(self.heights(root.left),self.heights(root.right))+1\n",
    "    def isbalance(self,root):\n",
    "        if not root:\n",
    "            return True\n",
    "        return self.isbalance(root.right) and self.isbalance(root.left) and abs(self.heights(root.right)-self.heights(root.left))<2"
   ]
  },
  {
   "cell_type": "markdown",
   "metadata": {},
   "source": [
    "Question 4"
   ]
  },
  {
   "cell_type": "code",
   "execution_count": null,
   "metadata": {},
   "outputs": [],
   "source": [
    "class solution:\n",
    "    def Binarysearchtree(self, root):\n",
    "        if not root:\n",
    "            return True\n",
    "        leftnode = root.left\n",
    "        rightnode = root.right\n",
    "        if leftnode.val<root.val and leftnode:\n",
    "            return True\n",
    "        if rightnode.val>root.val and rightnode:\n",
    "            return True\n",
    "        return self.Binarysearchtree(root.left) and self.Binarysearchtree(root.right)\n",
    "    #这个有个问题不能没有lowerbondupperbond"
   ]
  },
  {
   "cell_type": "code",
   "execution_count": null,
   "metadata": {},
   "outputs": [],
   "source": []
  },
  {
   "cell_type": "code",
   "execution_count": null,
   "metadata": {},
   "outputs": [],
   "source": [
    "class solution:\n",
    "    def valid(self, root, lowerbound, upperbound):\n",
    "        if not root:\n",
    "            return True\n",
    "        if root.val <=lowerbound or root.val>=upperbound:\n",
    "            return False\n",
    "        return self.valid(root.left,lowerbound, root.val) and self.vaild(root.right, root.val, upperbound)\n",
    "    \n",
    "    def isvalidBST(self, root):\n",
    "        if not root:\n",
    "            return True\n",
    "        return self.valid(root, -float('inf'), float('inf'))"
   ]
  },
  {
   "cell_type": "code",
   "execution_count": null,
   "metadata": {},
   "outputs": [],
   "source": []
  },
  {
   "cell_type": "code",
   "execution_count": null,
   "metadata": {},
   "outputs": [],
   "source": []
  },
  {
   "cell_type": "code",
   "execution_count": null,
   "metadata": {},
   "outputs": [],
   "source": []
  },
  {
   "cell_type": "code",
   "execution_count": null,
   "metadata": {},
   "outputs": [],
   "source": []
  },
  {
   "cell_type": "code",
   "execution_count": null,
   "metadata": {},
   "outputs": [],
   "source": []
  },
  {
   "cell_type": "code",
   "execution_count": null,
   "metadata": {},
   "outputs": [],
   "source": []
  },
  {
   "cell_type": "code",
   "execution_count": null,
   "metadata": {},
   "outputs": [],
   "source": []
  },
  {
   "cell_type": "code",
   "execution_count": null,
   "metadata": {},
   "outputs": [],
   "source": []
  },
  {
   "cell_type": "code",
   "execution_count": null,
   "metadata": {},
   "outputs": [],
   "source": []
  }
 ],
 "metadata": {
  "kernelspec": {
   "display_name": "Python 3 (ipykernel)",
   "language": "python",
   "name": "python3"
  },
  "language_info": {
   "codemirror_mode": {
    "name": "ipython",
    "version": 3
   },
   "file_extension": ".py",
   "mimetype": "text/x-python",
   "name": "python",
   "nbconvert_exporter": "python",
   "pygments_lexer": "ipython3",
   "version": "3.11.4"
  }
 },
 "nbformat": 4,
 "nbformat_minor": 4
}
