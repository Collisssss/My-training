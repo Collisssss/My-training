{
 "cells": [
  {
   "cell_type": "code",
   "execution_count": 3,
   "metadata": {},
   "outputs": [],
   "source": [
    "class Solution():\n",
    "    def uncommonfromsentence(self, A,B):\n",
    "        from collections import Counter\n",
    "        count = Counter((A + ' '+B).split())\n",
    "        print(count)\n",
    "        return [word for word, c in count.items() if c==1]\n"
   ]
  },
  {
   "cell_type": "code",
   "execution_count": 5,
   "metadata": {},
   "outputs": [],
   "source": [
    "from collections import Counter\n",
    "\n",
    "class Solution():\n",
    "    def uncommonfromsentence(self, A, B):\n",
    "        count = Counter((A + ' ' + B).split())\n",
    "        print(count)\n",
    "        return [word for word, c in count.items() if c == 1]"
   ]
  },
  {
   "cell_type": "code",
   "execution_count": 10,
   "metadata": {},
   "outputs": [
    {
     "name": "stdout",
     "output_type": "stream",
     "text": [
      "Counter({'apple': 2, 'banana': 1})\n",
      "['banana']\n"
     ]
    }
   ],
   "source": [
    "solution = Solution()\n",
    "A = 'apple apple'\n",
    "B = \"banana\"\n",
    "print(solution.uncommonfromsentence(A,B))"
   ]
  },
  {
   "cell_type": "code",
   "execution_count": 11,
   "metadata": {},
   "outputs": [
    {
     "ename": "SyntaxError",
     "evalue": "unexpected EOF while parsing (<ipython-input-11-09128c4c04fb>, line 1)",
     "output_type": "error",
     "traceback": [
      "\u001b[0;36m  File \u001b[0;32m\"<ipython-input-11-09128c4c04fb>\"\u001b[0;36m, line \u001b[0;32m1\u001b[0m\n\u001b[0;31m    class Solution():\u001b[0m\n\u001b[0m                     ^\u001b[0m\n\u001b[0;31mSyntaxError\u001b[0m\u001b[0;31m:\u001b[0m unexpected EOF while parsing\n"
     ]
    }
   ],
   "source": [
    "class Solution():\n",
    "    def twoSum(self, nums, target):\n",
    "        buff_dict = {}\n",
    "        for i, num in enumerate(nums):\n",
    "            if num not in buff_dict:\n",
    "                buff_dict[target-num] = i\n",
    "            else:\n",
    "                return [buff_dict[num],i]\n",
    "            \n",
    "    "
   ]
  },
  {
   "cell_type": "code",
   "execution_count": 13,
   "metadata": {},
   "outputs": [],
   "source": [
    "class Solution():\n",
    "    def twoSum(self, nums, target):\n",
    "        h = {}\n",
    "        for idx, val in enumerate(nums):\n",
    "            if val not in h:\n",
    "                h[target - val] = idx\n",
    "            else:\n",
    "                return([h[val],idx])\n",
    "        "
   ]
  },
  {
   "cell_type": "code",
   "execution_count": 15,
   "metadata": {},
   "outputs": [
    {
     "name": "stdout",
     "output_type": "stream",
     "text": [
      "[0, 1]\n"
     ]
    }
   ],
   "source": [
    "solution = Solution()\n",
    "A = [2,7,11,15]\n",
    "target = 9\n",
    "print(solution.twoSum(A,target))"
   ]
  },
  {
   "cell_type": "code",
   "execution_count": 18,
   "metadata": {},
   "outputs": [],
   "source": [
    "class Solution:\n",
    "    def Afunction(self, A):\n",
    "        h = {}\n",
    "        for i, num in enumerate(A):\n",
    "            if num not in h:\n",
    "                h[num] = i\n",
    "            else:\n",
    "                return True\n",
    "        return False"
   ]
  },
  {
   "cell_type": "code",
   "execution_count": 20,
   "metadata": {},
   "outputs": [
    {
     "name": "stdout",
     "output_type": "stream",
     "text": [
      "False\n"
     ]
    }
   ],
   "source": [
    "solution = Solution()\n",
    "A = [2,7,11,15]\n",
    "\n",
    "print(solution.Afunction(A))"
   ]
  },
  {
   "cell_type": "code",
   "execution_count": null,
   "metadata": {},
   "outputs": [],
   "source": [
    "class Solution:\n",
    "    def Afunction(self, nums):\n",
    "        newlist = list(set(nums))\n",
    "        newlist.sort()\n",
    "        nums.sort()\n",
    "        if newlist == nums:\n",
    "            return False\n",
    "        return True"
   ]
  },
  {
   "cell_type": "code",
   "execution_count": null,
   "metadata": {},
   "outputs": [],
   "source": [
    "class Solution:\n",
    "    def subarraySum(self, nums,k):\n",
    "        sums_count = defaultdict(int)\n",
    "        sums_count[0] = 1\n",
    "        k_count = 0\n",
    "        nums_sum =0\n",
    "        for num in nums:\n",
    "            nums_sum += num\n",
    "            k_count += sums_count[nums_sum - k]\n",
    "            sum_count[nums_sum] +=1 \n",
    "        return k_count\n",
    "            "
   ]
  },
  {
   "cell_type": "code",
   "execution_count": 45,
   "metadata": {},
   "outputs": [],
   "source": [
    "#第一题双指针\n",
    "class Solution1():\n",
    "    \n",
    "    def twoSum(self, nums, target):\n",
    "        nums_sort=[]\n",
    "        result = []\n",
    "        for idx, val in enumerate(nums):\n",
    "            nums_sort.append((val,idx))\n",
    "        nums_sort.sort(key = lambda elt: elt[0])\n",
    "        left, right = 0, len(nums)-1\n",
    "        while left<right:\n",
    "            sm = nums_sort[left][0]+nums_sort[right][0]\n",
    "            if sm<target:\n",
    "                left += 1\n",
    "            elif sm>target:\n",
    "                right -=1\n",
    "            else:\n",
    "                result.append([nums_sort[left][1],nums_sort[right][1]])\n",
    "                left +=1\n",
    "            \n",
    "        \n",
    "        return result\n",
    "                \n",
    " \n",
    "    \n",
    "            "
   ]
  },
  {
   "cell_type": "code",
   "execution_count": 46,
   "metadata": {},
   "outputs": [
    {
     "name": "stdout",
     "output_type": "stream",
     "text": [
      "[[2, 3], [0, 1]]\n"
     ]
    }
   ],
   "source": [
    "solution = Solution1()\n",
    "A = [2,7,1,8,11,15]\n",
    "target = 9\n",
    "print(solution.twoSum(A,target))"
   ]
  },
  {
   "cell_type": "code",
   "execution_count": 42,
   "metadata": {},
   "outputs": [],
   "source": [
    "class Solution1():\n",
    "\n",
    "    def twoSum(self, nums, target):\n",
    "        nums_sort = [(val, idx) for idx, val in enumerate(nums)]\n",
    "        nums_sort.sort(key=lambda elt: elt[0])\n",
    "\n",
    "        left, right = 0, len(nums) - 1\n",
    "        result = None\n",
    "\n",
    "        while left < right and nums_sort[left][0] <= target / 2:\n",
    "            sm = nums_sort[left][0] + nums_sort[right][0]\n",
    "            if sm < target:\n",
    "                left += 1\n",
    "            elif sm > target:\n",
    "                right -= 1\n",
    "            else:\n",
    "                result = [nums_sort[left][1], nums_sort[right][1]]\n",
    "                left += 1\n",
    "\n",
    "        return result\n",
    "\n"
   ]
  },
  {
   "cell_type": "code",
   "execution_count": 43,
   "metadata": {},
   "outputs": [
    {
     "name": "stdout",
     "output_type": "stream",
     "text": [
      "[0, 1]\n"
     ]
    }
   ],
   "source": [
    "solution = Solution1()\n",
    "A = [2,7,1,8,11,15]\n",
    "target = 9\n",
    "print(solution.twoSum(A, target))  # This will now always return [0,1]\n"
   ]
  },
  {
   "cell_type": "code",
   "execution_count": 52,
   "metadata": {},
   "outputs": [],
   "source": [
    "from collections import defaultdict\n",
    "class Solution1:\n",
    "    def subarraySum(self, nums, k):\n",
    "        sums_count = defaultdict(int)\n",
    "        sums_count[0] = 1\n",
    "        k_count =0\n",
    "        nums_sum = 0\n",
    "        for num in nums:\n",
    "            nums_sum +=num\n",
    "            k_count += sums_count[nums_sum- k]\n",
    "            sums_count[nums_sum] += 1\n",
    "        return k_count\n",
    "    "
   ]
  },
  {
   "cell_type": "code",
   "execution_count": 54,
   "metadata": {},
   "outputs": [
    {
     "name": "stdout",
     "output_type": "stream",
     "text": [
      "3\n"
     ]
    }
   ],
   "source": [
    "solution = Solution1()\n",
    "A = [2,7,1,8,11,15]\n",
    "target = 9\n",
    "print(solution.subarraySum(A, target))  # This will now always return [0,1]\n"
   ]
  },
  {
   "cell_type": "code",
   "execution_count": 55,
   "metadata": {},
   "outputs": [
    {
     "name": "stdout",
     "output_type": "stream",
     "text": [
      "1\n"
     ]
    }
   ],
   "source": [
    "import heapq\n",
    "\n",
    "# 初始化一个常规列表\n",
    "nums = [3, 1, 4, 1, 5, 9, 2, 6, 5]\n",
    "\n",
    "# 使用 heapify 转换成一个堆\n",
    "heapq.heapify(nums)\n",
    "\n",
    "# 打印堆的最小元素（不弹出）\n",
    "print(nums[0])  # 输出: 1"
   ]
  },
  {
   "cell_type": "code",
   "execution_count": 61,
   "metadata": {},
   "outputs": [],
   "source": [
    "import heapq\n",
    "class solution():\n",
    "    def findkthelement(self,nums,k):\n",
    "        heap = nums[:k]\n",
    "        heapq.heapify(heap)\n",
    "        for num in nums[k:]:\n",
    "            if num > heap[0]:\n",
    "                heapq.heappop(heap)\n",
    "                heapq.heappush(heap,num)\n",
    "        return heap[0]\n"
   ]
  },
  {
   "cell_type": "code",
   "execution_count": 62,
   "metadata": {},
   "outputs": [
    {
     "name": "stdout",
     "output_type": "stream",
     "text": [
      "5\n"
     ]
    }
   ],
   "source": [
    "solution = solution()\n",
    "A = [3,2,1,5,6,4]\n",
    "target = 2\n",
    "print(solution.findkthelement(A, target))  # This will now always return [0,1]\n",
    "\n"
   ]
  },
  {
   "cell_type": "code",
   "execution_count": null,
   "metadata": {},
   "outputs": [],
   "source": [
    "def findkthmostfrequent(nums,k):\n",
    "    h = {}\n",
    "    for num in nums:\n",
    "        if num not in h:\n",
    "            h[num] = 1\n",
    "        else:\n",
    "            h[num] +=1\n",
    "    "
   ]
  },
  {
   "cell_type": "code",
   "execution_count": 64,
   "metadata": {},
   "outputs": [],
   "source": [
    "import heapq\n",
    "from collections import Counter\n",
    "def topKFrequent(nums,k):\n",
    "    if k==len(nums):\n",
    "        return nums\n",
    "    count = Counter(nums)\n",
    "    return heapq.nlargest(k,count.keys(),key = count.get)"
   ]
  },
  {
   "cell_type": "code",
   "execution_count": 65,
   "metadata": {},
   "outputs": [
    {
     "data": {
      "text/plain": [
       "[1, 2]"
      ]
     },
     "execution_count": 65,
     "metadata": {},
     "output_type": "execute_result"
    }
   ],
   "source": [
    "nums =[1,1,1,2,2,3]\n",
    "k = 2\n",
    "topKFrequent(nums,k)"
   ]
  },
  {
   "cell_type": "code",
   "execution_count": 66,
   "metadata": {},
   "outputs": [],
   "source": [
    "import heapq\n",
    "\n",
    "def kSmallestPairs(nums1, nums2, k):\n",
    "    if not nums1 or not nums2: \n",
    "        return []\n",
    "\n",
    "    # 初始化最小堆\n",
    "    heap = []\n",
    "    for i in range(min(k, len(nums1))):\n",
    "        heapq.heappush(heap, (nums1[i] + nums2[0], i, 0))\n",
    "\n",
    "    res = []\n",
    "    while k > 0 and heap:\n",
    "        val, i, j = heapq.heappop(heap)\n",
    "        res.append((nums1[i], nums2[j]))\n",
    "        \n",
    "        # 如果nums2中还有元素与nums1[i]配对\n",
    "        if j + 1 < len(nums2):\n",
    "            heapq.heappush(heap, (nums1[i] + nums2[j+1], i, j+1))\n",
    "        \n",
    "        k -= 1\n",
    "\n",
    "    return res\n"
   ]
  },
  {
   "cell_type": "code",
   "execution_count": 68,
   "metadata": {},
   "outputs": [
    {
     "data": {
      "text/plain": [
       "[(1, 2), (1, 4), (1, 6)]"
      ]
     },
     "execution_count": 68,
     "metadata": {},
     "output_type": "execute_result"
    }
   ],
   "source": [
    "nums1 = [1,7,11]\n",
    "nums2 = [2,4,6]\n",
    "k = 3\n",
    "kSmallestPairs(nums1, nums2, k)"
   ]
  },
  {
   "cell_type": "code",
   "execution_count": null,
   "metadata": {},
   "outputs": [],
   "source": [
    "def isvalid(s):\n",
    "    stack =[]\n",
    "    mapping = {')':'(',']':'[','}':'{'}\n",
    "    for char in s:\n",
    "        if char in mapping:\n",
    "            topelement = stack.pop() if stack else '#'\n",
    "            if topelement != mapping[char]:\n",
    "                return False\n",
    "            \n",
    "            \n",
    "        else:\n",
    "            stack.append(char)\n",
    "    return not stack"
   ]
  },
  {
   "cell_type": "code",
   "execution_count": 71,
   "metadata": {},
   "outputs": [],
   "source": [
    "import collections\n",
    "def removeDuplicateLetters(s: str) -> str:\n",
    "    # A stack to hold the characters of the result string\n",
    "    stack = []\n",
    "    \n",
    "    # Count the occurrences of each character in the string\n",
    "    count = collections.Counter(s)\n",
    "    \n",
    "    # A set to check if a character is in the stack\n",
    "    seen = set()\n",
    "    \n",
    "    for char in s:\n",
    "        count[char] -= 1\n",
    "        if char in seen:\n",
    "            continue\n",
    "        while stack and char < stack[-1] and count[stack[-1]] > 0:\n",
    "            seen.discard(stack.pop())\n",
    "        seen.add(char)\n",
    "        stack.append(char)\n",
    "    \n",
    "    return ''.join(stack)\n"
   ]
  },
  {
   "cell_type": "code",
   "execution_count": 72,
   "metadata": {},
   "outputs": [
    {
     "data": {
      "text/plain": [
       "'abc'"
      ]
     },
     "execution_count": 72,
     "metadata": {},
     "output_type": "execute_result"
    }
   ],
   "source": [
    "s = 'bcabc'\n",
    "removeDuplicateLetters(s)"
   ]
  },
  {
   "cell_type": "code",
   "execution_count": null,
   "metadata": {},
   "outputs": [],
   "source": [
    "def haspathsum(self, root, sum):\n",
    "    if not root:\n",
    "        return False\n",
    "    sum -= root.val\n",
    "    if not root.left and not root.right:\n",
    "        return sum ==0\n",
    "    return self.haspathsum(root.left,sum) or self.haspathsum(root.right,sum)\n",
    "\n",
    "\n",
    "\n",
    "        "
   ]
  },
  {
   "cell_type": "markdown",
   "metadata": {},
   "source": [
    "难题1"
   ]
  },
  {
   "cell_type": "code",
   "execution_count": null,
   "metadata": {},
   "outputs": [],
   "source": [
    "string =\"babbc\""
   ]
  },
  {
   "cell_type": "code",
   "execution_count": null,
   "metadata": {},
   "outputs": [],
   "source": [
    "def removeduplicateletter(string):\n",
    "    stack = []\n",
    "    seen = set()\n",
    "    last_occurence={c : i for i,c in enumerate(string)}\n",
    "    for i,c in enumerate(string):\n",
    "        if c not in seen:\n",
    "            while stack and c<stack[-1] and i < last_occurence[stack[-1]]:\n",
    "                seen.discard(stack.pop())\n",
    "                \n",
    "            \n",
    "            \n",
    "            seen.add(c)\n",
    "            stack.append(c)\n",
    "            \n",
    "    return ''.join(stack)"
   ]
  },
  {
   "cell_type": "markdown",
   "metadata": {},
   "source": [
    "难题2"
   ]
  },
  {
   "cell_type": "code",
   "execution_count": null,
   "metadata": {},
   "outputs": [],
   "source": [
    "def inordertraversal(root):\n",
    "    stack = []\n",
    "    res=[]\n",
    "    while root and stack:\n",
    "        while root:\n",
    "            stack.append(root)\n",
    "            root = root.left\n",
    "        root = stack.pop()\n",
    "        res.append(root.val)\n",
    "        root = root.right\n",
    "    return output\n"
   ]
  },
  {
   "cell_type": "code",
   "execution_count": null,
   "metadata": {},
   "outputs": [],
   "source": []
  },
  {
   "cell_type": "code",
   "execution_count": null,
   "metadata": {},
   "outputs": [],
   "source": []
  },
  {
   "cell_type": "code",
   "execution_count": null,
   "metadata": {},
   "outputs": [],
   "source": []
  },
  {
   "cell_type": "code",
   "execution_count": null,
   "metadata": {},
   "outputs": [],
   "source": []
  },
  {
   "cell_type": "code",
   "execution_count": null,
   "metadata": {},
   "outputs": [],
   "source": []
  },
  {
   "cell_type": "code",
   "execution_count": null,
   "metadata": {},
   "outputs": [],
   "source": []
  },
  {
   "cell_type": "code",
   "execution_count": null,
   "metadata": {},
   "outputs": [],
   "source": []
  }
 ],
 "metadata": {
  "kernelspec": {
   "display_name": "Python 3 (ipykernel)",
   "language": "python",
   "name": "python3"
  },
  "language_info": {
   "codemirror_mode": {
    "name": "ipython",
    "version": 3
   },
   "file_extension": ".py",
   "mimetype": "text/x-python",
   "name": "python",
   "nbconvert_exporter": "python",
   "pygments_lexer": "ipython3",
   "version": "3.11.4"
  }
 },
 "nbformat": 4,
 "nbformat_minor": 4
}
