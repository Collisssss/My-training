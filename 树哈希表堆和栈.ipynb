{
 "cells": [
  {
   "cell_type": "markdown",
   "id": "4b97183f",
   "metadata": {},
   "source": [
    "# 树\n",
    "主要应用递归算法"
   ]
  },
  {
   "cell_type": "code",
   "execution_count": null,
   "id": "69f3b7db",
   "metadata": {},
   "outputs": [],
   "source": [
    "class Solution:\n",
    "    def minDepthTree(self, root):\n",
    "        # 基本情况：如果当前节点为空，则返回0\n",
    "        if not root:\n",
    "            return 0\n",
    "        left = self.minDepthTree(root.left)\n",
    "        right = self.minDepthTree(root.right)\n",
    "        \n",
    "        # 如果左右子树有一个为空，返回非空子树的最小深度+1\n",
    "        if not root.left or not root.right:\n",
    "            return max(left, right) + 1\n",
    "        \n",
    "        # 如果左右子树都不为空，返回较小的深度+1\n",
    "        return min(left, right) + 1\n"
   ]
  },
  {
   "cell_type": "code",
   "execution_count": null,
   "id": "b1c23bd4",
   "metadata": {},
   "outputs": [],
   "source": [
    "class TreeNode:\n",
    "    def __init__(self, val=0, left=None, right=None):#这个是类的赋值\n",
    "        self.val = val\n",
    "        self.left = left\n",
    "        self.right = right\n",
    "\n",
    "# 构造一棵树作为示例\n",
    "#       1\n",
    "#      / \\\n",
    "#     2   3\n",
    "#        /\n",
    "#       4\n",
    "root = TreeNode(1)\n",
    "root.left = TreeNode(2)\n",
    "root.right = TreeNode(3)\n",
    "root.right.left = TreeNode(4)\n",
    "\n",
    "# 创建Solution实例并调用minDepthTree方法\n",
    "sol = Solution()\n",
    "print(sol.minDepthTree(root))  # 输出树的最小深度\n"
   ]
  },
  {
   "cell_type": "code",
   "execution_count": null,
   "id": "af48bf4e",
   "metadata": {},
   "outputs": [],
   "source": []
  },
  {
   "cell_type": "code",
   "execution_count": null,
   "id": "043de8ee",
   "metadata": {},
   "outputs": [],
   "source": []
  },
  {
   "cell_type": "code",
   "execution_count": null,
   "id": "f81806dd",
   "metadata": {},
   "outputs": [],
   "source": []
  },
  {
   "cell_type": "code",
   "execution_count": null,
   "id": "42baf52f",
   "metadata": {},
   "outputs": [],
   "source": []
  },
  {
   "cell_type": "code",
   "execution_count": null,
   "id": "f481f5d0",
   "metadata": {},
   "outputs": [],
   "source": []
  },
  {
   "cell_type": "code",
   "execution_count": null,
   "id": "b9f3a5fc",
   "metadata": {},
   "outputs": [],
   "source": []
  },
  {
   "cell_type": "code",
   "execution_count": null,
   "id": "3204a086",
   "metadata": {},
   "outputs": [],
   "source": []
  },
  {
   "cell_type": "code",
   "execution_count": null,
   "id": "9fc43eed",
   "metadata": {},
   "outputs": [],
   "source": []
  },
  {
   "cell_type": "code",
   "execution_count": null,
   "id": "75615ae1",
   "metadata": {},
   "outputs": [],
   "source": []
  },
  {
   "cell_type": "code",
   "execution_count": null,
   "id": "f0c0600c",
   "metadata": {},
   "outputs": [],
   "source": []
  },
  {
   "cell_type": "code",
   "execution_count": null,
   "id": "21bd3499",
   "metadata": {},
   "outputs": [],
   "source": []
  },
  {
   "cell_type": "code",
   "execution_count": null,
   "id": "4d01db10",
   "metadata": {},
   "outputs": [],
   "source": []
  },
  {
   "cell_type": "code",
   "execution_count": null,
   "id": "76ed70ab",
   "metadata": {},
   "outputs": [],
   "source": []
  },
  {
   "cell_type": "code",
   "execution_count": null,
   "id": "bdce8e0f",
   "metadata": {},
   "outputs": [],
   "source": []
  },
  {
   "cell_type": "code",
   "execution_count": null,
   "id": "f9d21209",
   "metadata": {},
   "outputs": [],
   "source": []
  },
  {
   "cell_type": "code",
   "execution_count": null,
   "id": "00eec50f",
   "metadata": {},
   "outputs": [],
   "source": []
  },
  {
   "cell_type": "code",
   "execution_count": null,
   "id": "ac0d9355",
   "metadata": {},
   "outputs": [],
   "source": []
  }
 ],
 "metadata": {
  "kernelspec": {
   "display_name": "Python 3 (ipykernel)",
   "language": "python",
   "name": "python3"
  },
  "language_info": {
   "codemirror_mode": {
    "name": "ipython",
    "version": 3
   },
   "file_extension": ".py",
   "mimetype": "text/x-python",
   "name": "python",
   "nbconvert_exporter": "python",
   "pygments_lexer": "ipython3",
   "version": "3.11.4"
  }
 },
 "nbformat": 4,
 "nbformat_minor": 5
}
