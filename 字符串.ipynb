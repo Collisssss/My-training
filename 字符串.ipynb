{
 "cells": [
  {
   "cell_type": "code",
   "execution_count": null,
   "metadata": {},
   "outputs": [],
   "source": []
  },
  {
   "cell_type": "markdown",
   "metadata": {},
   "source": [
    "Given a string, determine if it is a palindrome, considering only alphanumeric\n",
    "characters and ignoring cases."
   ]
  },
  {
   "cell_type": "code",
   "execution_count": 1,
   "metadata": {},
   "outputs": [],
   "source": [
    "def palindromeid(string):\n",
    "    s = ''.join([c for c in string if c.isalpha() or c.isnumeric()]).lower()\n",
    "    return s ==s[::-1]"
   ]
  },
  {
   "cell_type": "code",
   "execution_count": 2,
   "metadata": {},
   "outputs": [
    {
     "data": {
      "text/plain": [
       "True"
      ]
     },
     "execution_count": 2,
     "metadata": {},
     "output_type": "execute_result"
    }
   ],
   "source": [
    "string = \"A man, a plan, a canal: Panama\"\n",
    "\n",
    "\n",
    "\n"
   ]
  },
  {
   "cell_type": "code",
   "execution_count": 3,
   "metadata": {},
   "outputs": [
    {
     "data": {
      "text/plain": [
       "'a#m#a#n#a#p#l#a#n#a#c#a#n#a#l#p#a#n#a#m#a'"
      ]
     },
     "execution_count": 3,
     "metadata": {},
     "output_type": "execute_result"
    }
   ],
   "source": [
    "def pa(string):\n",
    "    s = ''.join([c for c in string if c.isnumeric() or c.isalpha()]).lower()"
   ]
  },
  {
   "cell_type": "code",
   "execution_count": null,
   "metadata": {},
   "outputs": [],
   "source": []
  },
  {
   "cell_type": "code",
   "execution_count": null,
   "metadata": {},
   "outputs": [],
   "source": []
  },
  {
   "cell_type": "code",
   "execution_count": null,
   "metadata": {},
   "outputs": [],
   "source": []
  },
  {
   "cell_type": "code",
   "execution_count": null,
   "metadata": {},
   "outputs": [],
   "source": []
  },
  {
   "cell_type": "markdown",
   "metadata": {},
   "source": [
    "Question 2"
   ]
  },
  {
   "cell_type": "code",
   "execution_count": null,
   "metadata": {},
   "outputs": [],
   "source": [
    "def reverseword(string):\n",
    "    return ' '.join(s.split()[::-1])"
   ]
  },
  {
   "cell_type": "code",
   "execution_count": null,
   "metadata": {},
   "outputs": [],
   "source": []
  },
  {
   "cell_type": "markdown",
   "metadata": {},
   "source": [
    "question 3"
   ]
  },
  {
   "cell_type": "code",
   "execution_count": 10,
   "metadata": {},
   "outputs": [],
   "source": [
    "def romanvaluechange(string):\n",
    "    h = {\n",
    "        \"I\":1,\n",
    "        \"V\":5,\n",
    "        \"X\":10,\n",
    "        \"L\":50,\n",
    "        \"C\":100,\n",
    "        \"D\":500,\n",
    "        \"M\":1000\n",
    "    }\n",
    "\n",
    "    c = string\n",
    "    total = 0\n",
    "    i = 0\n",
    "    while i< len(c):\n",
    "        if h[c[i]]<h[c[i+1]] and i < len(c)-1:\n",
    "            total = total+h[c[i+1]]-h[c[i]]\n",
    "            i = i+2\n",
    "        else:\n",
    "            total = total+h[c[i]]\n",
    "            i = i+1\n",
    "    return total\n",
    "            "
   ]
  },
  {
   "cell_type": "code",
   "execution_count": 11,
   "metadata": {},
   "outputs": [
    {
     "data": {
      "text/plain": [
       "1994"
      ]
     },
     "execution_count": 11,
     "metadata": {},
     "output_type": "execute_result"
    }
   ],
   "source": [
    "string =\"MCMXCIV\"\n",
    "romanvaluechange(string)"
   ]
  },
  {
   "cell_type": "code",
   "execution_count": 12,
   "metadata": {},
   "outputs": [
    {
     "data": {
      "text/plain": [
       "'C'"
      ]
     },
     "execution_count": 12,
     "metadata": {},
     "output_type": "execute_result"
    }
   ],
   "source": [
    "#点评\n",
    "#字符串是可以直接遍历的\n",
    "string[1] z\n",
    "#注意corner condition\n",
    "#if h[c[i]]<h[c[i+1]] and i < len(c)-1:\n",
    "#h[c[i]]"
   ]
  },
  {
   "cell_type": "markdown",
   "metadata": {},
   "source": [
    "Question 4"
   ]
  },
  {
   "cell_type": "code",
   "execution_count": null,
   "metadata": {},
   "outputs": [],
   "source": [
    "def numbertoalpha(digits):\n",
    "    \n",
    "    letter = []\n",
    "    for x in digits:\n",
    "        if x == \"2\":\n",
    "            letter.append(['a','b','c'])\n",
    "        elif x == \"3\":\n",
    "            letter.append(['d','e','f'])\n",
    "        elif x == \"4\":\n",
    "            letter.append(['g','h','i'])\n",
    "        elif x == \"5\":\n",
    "            letter.append(['j','k','l'])\n",
    "        elif x == \"6\":\n",
    "            letter.append(['m','n','o'])\n",
    "        elif x == \"7\":\n",
    "            letter.append(['p','q','r','s'])\n",
    "        elif x == \"8\":\n",
    "            letter.append(['t','u','v'])\n",
    "        else:\n",
    "            letter.append(['w','x','y','z'])\n",
    "    for i in range(1,len(letter)):\n",
    "        temp = letter[0][:]\n",
    "        for x in temp:\n",
    "            for y in letter[i]:\n",
    "                letter[0].append(str(x+y))\n",
    "            del letter[0][0]\n",
    "    if digits ==\"\":\n",
    "        return []\n",
    "    else:\n",
    "        return letter[0]\n",
    "        \n",
    "\n",
    "        "
   ]
  },
  {
   "cell_type": "code",
   "execution_count": null,
   "metadata": {},
   "outputs": [],
   "source": []
  },
  {
   "cell_type": "code",
   "execution_count": null,
   "metadata": {},
   "outputs": [],
   "source": []
  },
  {
   "cell_type": "code",
   "execution_count": null,
   "metadata": {},
   "outputs": [],
   "source": []
  },
  {
   "cell_type": "code",
   "execution_count": null,
   "metadata": {},
   "outputs": [],
   "source": []
  },
  {
   "cell_type": "code",
   "execution_count": null,
   "metadata": {},
   "outputs": [],
   "source": []
  }
 ],
 "metadata": {
  "kernelspec": {
   "display_name": "Python 3 (ipykernel)",
   "language": "python",
   "name": "python3"
  },
  "language_info": {
   "codemirror_mode": {
    "name": "ipython",
    "version": 3
   },
   "file_extension": ".py",
   "mimetype": "text/x-python",
   "name": "python",
   "nbconvert_exporter": "python",
   "pygments_lexer": "ipython3",
   "version": "3.11.4"
  }
 },
 "nbformat": 4,
 "nbformat_minor": 4
}
